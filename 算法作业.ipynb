{
 "cells": [
  {
   "cell_type": "code",
   "execution_count": 2,
   "metadata": {},
   "outputs": [
    {
     "name": "stdout",
     "output_type": "stream",
     "text": [
      "[100.0, 600.0, 1200.0, 2400.0, 500.0, 2000.0]\n",
      "[8.0, 12.0, 13.0, 64.0, 22.0, 41.0]\n",
      "[8.0, 12.0, 13.0, 75.0, 22.0, 41.0]\n",
      "[3.0, 6.0, 4.0, 18.0, 6.0, 4.0]\n",
      "[5.0, 10.0, 8.0, 32.0, 6.0, 12.0]\n",
      "[5.0, 13.0, 8.0, 42.0, 6.0, 20.0]\n",
      "[5.0, 13.0, 8.0, 48.0, 6.0, 20.0]\n",
      "[0.0, 0.0, 0.0, 0.0, 8.0, 0.0]\n",
      "[3.0, 0.0, 4.0, 0.0, 8.0, 0.0]\n",
      "[3.0, 2.0, 4.0, 0.0, 8.0, 4.0]\n",
      "[3.0, 2.0, 4.0, 8.0, 8.0, 4.0]\n",
      "[80.0, 96.0, 20.0, 36.0, 44.0, 48.0, 10.0, 18.0, 22.0, 24.0]\n"
     ]
    }
   ],
   "source": [
    "import xlrd\n",
    "import numpy as np\n",
    "import pandas as pd\n",
    "from numpy import *\n",
    "data = xlrd.open_workbook(\"C:\\\\Users\\\\Administrator\\\\Desktop\\\\data.xlsx\")      #读取第一个表格中的数据\n",
    "sheet = data.sheets()[0]\n",
    "nrows = sheet.nrows                          #行数\n",
    "m = sheet.nrows \n",
    "\n",
    "# 将表格的内容赋值给指定函数\n",
    "for i in range(m):        \n",
    "    print(sheet.row_values(i))\n",
    "                                            #  L = sheet.row_values(0)  将某一行的值赋予L  某一列用：col_values     几行几列用cell\n",
    "                                            #    x = sheet.col_values(1)\n",
    "                                            #  print(x)\n",
    "data2= xlrd.open_workbook(\"C:\\\\Users\\\\Administrator\\\\Desktop\\\\data2.xlsx\")#读取第二个表格中的数据\n",
    "sheet2 = data2.sheets()[0]\n",
    "n = sheet2.nrows\n",
    "\n",
    "\n",
    "print(sheet2.row_values(0))                 #    check\n",
    "\n",
    "    "
   ]
  },
  {
   "cell_type": "code",
   "execution_count": 3,
   "metadata": {},
   "outputs": [],
   "source": [
    "price=sheet.row_values(0)#价值 一共6个物品 每个物品对应10个属性\n",
    "c0=sheet.row_values(1)\n",
    "c1=sheet.row_values(2)\n",
    "c2=sheet.row_values(3)\n",
    "c3=sheet.row_values(4)\n",
    "c4=sheet.row_values(5)\n",
    "c5=sheet.row_values(6)\n",
    "c6=sheet.row_values(7)\n",
    "c7=sheet.row_values(8)\n",
    "c8=sheet.row_values(9)\n",
    "c9=sheet.row_values(10)#第N个限定条件的数值\n",
    "check=sheet2.row_values(0)#选取的以上的每行数值加起来小于本行对应的数值\n",
    "     "
   ]
  },
  {
   "cell_type": "code",
   "execution_count": 4,
   "metadata": {},
   "outputs": [
    {
     "name": "stdout",
     "output_type": "stream",
     "text": [
      "[[8.0, 12.0, 13.0, 64.0, 22.0, 41.0], [8.0, 12.0, 13.0, 75.0, 22.0, 41.0], [3.0, 6.0, 4.0, 18.0, 6.0, 4.0], [5.0, 10.0, 8.0, 32.0, 6.0, 12.0], [5.0, 13.0, 8.0, 42.0, 6.0, 20.0], [5.0, 13.0, 8.0, 48.0, 6.0, 20.0], [0.0, 0.0, 0.0, 0.0, 8.0, 0.0], [3.0, 0.0, 4.0, 0.0, 8.0, 0.0], [3.0, 2.0, 4.0, 0.0, 8.0, 4.0], [3.0, 2.0, 4.0, 8.0, 8.0, 4.0]]\n"
     ]
    }
   ],
   "source": [
    "list_data = [] \n",
    "list_data.append(c0)\n",
    "list_data.append(c1)\n",
    "list_data.append(c2)\n",
    "list_data.append(c3)\n",
    "list_data.append(c4)\n",
    "list_data.append(c5)\n",
    "list_data.append(c6)\n",
    "list_data.append(c7)\n",
    "list_data.append(c8)\n",
    "list_data.append(c9)\n",
    " # print(list_data)\n",
    "y = list_data\n",
    "print(y) "
   ]
  },
  {
   "cell_type": "code",
   "execution_count": 5,
   "metadata": {},
   "outputs": [
    {
     "name": "stdout",
     "output_type": "stream",
     "text": [
      "     0     1     2     3     4     5\n",
      "0  8.0  12.0  13.0  64.0  22.0  41.0\n",
      "1  8.0  12.0  13.0  75.0  22.0  41.0\n",
      "2  3.0   6.0   4.0  18.0   6.0   4.0\n",
      "3  5.0  10.0   8.0  32.0   6.0  12.0\n",
      "4  5.0  13.0   8.0  42.0   6.0  20.0\n",
      "5  5.0  13.0   8.0  48.0   6.0  20.0\n",
      "6  0.0   0.0   0.0   0.0   8.0   0.0\n",
      "7  3.0   0.0   4.0   0.0   8.0   0.0\n",
      "8  3.0   2.0   4.0   0.0   8.0   4.0\n",
      "9  3.0   2.0   4.0   8.0   8.0   4.0\n",
      "      0\n",
      "0  80.0\n",
      "1  96.0\n",
      "2  20.0\n",
      "3  36.0\n",
      "4  44.0\n",
      "5  48.0\n",
      "6  10.0\n",
      "7  18.0\n",
      "8  22.0\n",
      "9  24.0\n"
     ]
    }
   ],
   "source": [
    "y = pd.DataFrame(y)\n",
    "check = pd.DataFrame(check)\n",
    "print(y)\n",
    "print(check)\n",
    "x=6"
   ]
  },
  {
   "cell_type": "code",
   "execution_count": 6,
   "metadata": {},
   "outputs": [
    {
     "name": "stdout",
     "output_type": "stream",
     "text": [
      "3800.0\n"
     ]
    }
   ],
   "source": [
    "\n",
    "v=0\n",
    "c11 =price[0]                       #价值\n",
    "def bag(i):\n",
    "    global v,c11,price,x\n",
    "         \n",
    "    if i > x-1:\n",
    "        if v>c11:\n",
    "            c11=v\n",
    "    else:\n",
    "        p=0\n",
    "        p=(check[0]-y[i])>=0  \n",
    "        if p.all():\n",
    "            check[0]=check[0]-y[i]\n",
    "            v=v+price[i]\n",
    "            bag(i+1)\n",
    "            v=v-price[i]\n",
    "            check[0]=check[0]+y[i]\n",
    "        bag(i+1)\n",
    "bag(0)\n",
    "\n",
    "print( c11)\n",
    "\n",
    "    "
   ]
  }
 ],
 "metadata": {
  "kernelspec": {
   "display_name": "Python 3",
   "language": "python",
   "name": "python3"
  },
  "language_info": {
   "codemirror_mode": {
    "name": "ipython",
    "version": 3
   },
   "file_extension": ".py",
   "mimetype": "text/x-python",
   "name": "python",
   "nbconvert_exporter": "python",
   "pygments_lexer": "ipython3",
   "version": "3.7.1"
  }
 },
 "nbformat": 4,
 "nbformat_minor": 2
}
